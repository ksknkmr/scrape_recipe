{
 "cells": [
  {
   "cell_type": "code",
   "execution_count": null,
   "metadata": {
    "collapsed": false
   },
   "outputs": [],
   "source": [
    "import numpy\n",
    "# シグモイド関数expit()利用のため\n",
    "import scipy.special\n",
    "# 配列の描画ライブラリ\n",
    "import matplotlib.pyplot\n",
    "# 描画はNotebook内、外部ウィンドウではない。\n",
    "%matplotlib inline\n",
    "\n",
    "# ニューラルネットワーククラスの定義\n",
    "class neuralNetwork:\n",
    "    \n",
    "    # ニューラルネットワークの初期化\n",
    "    def __init__(self, inputnodes, hiddennodes,\n",
    "                outputnodes, learningrate):\n",
    "        self.inodes = inputnodes\n",
    "        self.hnodes = hiddennodes\n",
    "        self.onodes = outputnodes\n",
    "        \n",
    "        # リンクの重み行列　wihとwho\n",
    "        # 行列内の重み　w_i_j, ノードiから次の層のノードjへのリンクの重み\n",
    "        # w11 w21\n",
    "        # w12 w22　など\n",
    "        self.wih = (numpy.random.rand(self.hnodes, self.inodes) - 0.5)\n",
    "        self.who = (numpy.random.rand(self.onodes, self.hnodes) - 0.5)\n",
    "        \n",
    "        \n",
    "        # 学習率の設定\n",
    "        self.lr = learningrate\n",
    "        \n",
    "        # 活性化関数はシグモイド関数\n",
    "        self.activation_function = lambda x: scipy.special.expit(x)\n",
    "        \n",
    "    # ニューラルネットワークの学習\n",
    "    def train(self, inputs_list, targets_list):\n",
    "        # 入力リストを行列に変換\n",
    "        inputs = numpy.array(inputs_list, ndmin=2).T\n",
    "        targets = numpy.array(targets_list, ndmin=2).T\n",
    "        \n",
    "        # 隠れ層に入ってくる信号の計算\n",
    "        hidden_inputs = numpy.dot(self.wih, inputs)\n",
    "        # 隠れ層で結合された信号を活性化関数により出力\n",
    "        hidden_outputs = self.activation_function(hidden_inputs)\n",
    "        \n",
    "        # 出力層に入ってくる信号の計算\n",
    "        final_inputs = numpy.dot(self.who, hidden_outputs)\n",
    "        # 出力層で結合された信号を活性化関数により出力\n",
    "        final_outputs = self.activation_function(final_inputs)\n",
    "        \n",
    "        # 出力層の誤差　＝　（目標出力ー最終出力）\n",
    "        output_errors = targets - final_outputs\n",
    "        # 隠れ層の誤差は出力層の誤差をリンクの重みの割合で分配\n",
    "        hidden_errors = numpy.dot(self.who.T, output_errors)\n",
    "        \n",
    "        # 隠れ層と出力層の間のリンクの重みを更新\n",
    "        self.who += self.lr * numpy.dot((output_errors *\n",
    "                                         final_outputs * (1.0 - final_outputs)),\n",
    "                                        numpy.transpose(hidden_outputs))\n",
    "        \n",
    "        # 入力層と隠れ層の間のリンクの重みを更新\n",
    "        self.wih += self.lr * numpy.dot((hidden_errors *\n",
    "                                         hidden_outputs * (1.0 - hidden_outputs)),\n",
    "                                        numpy.transpose(inputs))\n",
    "        \n",
    "        \n",
    "    # ニューラルネットワークへの照会\n",
    "    def query(self, inputs_list):\n",
    "        # 入力リストを行列に変換\n",
    "        inputs = numpy.array(inputs_list, ndmin=2).T\n",
    "        \n",
    "        # 隠れ層に入ってくる信号の計算\n",
    "        hidden_inputs = numpy.dot(self.wih, inputs)\n",
    "        # 隠れ層で結合された信号を活性化関数により出力\n",
    "        hidden_outputs = self.activation_function(hidden_inputs)\n",
    "        \n",
    "        # 出力層に入ってくる信号の計算\n",
    "        final_inputs = numpy.dot(self.who, hidden_outputs)\n",
    "        # 出力層で結合された信号を活性化関数により出力\n",
    "        final_outputs = self.activation_function(final_inputs)\n",
    "        \n",
    "        return final_outputs\n",
    "    \n",
    "# 入力層、隠れ層、出力層のノード数\n",
    "input_nodes = 784\n",
    "hidden_nodes = 100\n",
    "output_nodes = 10\n",
    "\n",
    "# 学習率＝0.3\n",
    "learning_rate = 0.2\n",
    "\n",
    "# ニューラルネットワークのインスタンス作成\n",
    "n = neuralNetwork(input_nodes,hidden_nodes,output_nodes,learning_rate)\n",
    "\n",
    "# MNIST　訓練データのCSV　ファイルを読み込んでリストにする\n",
    "training_data_file = open(\"mnist_dataset/mnist_train.csv\", 'r')\n",
    "training_data_list = training_data_file.readlines()\n",
    "training_data_file.close()\n",
    "\n",
    "# ニューラルネットワークの学習\n",
    "\n",
    "# epochs: 訓練データが学習で使われた回数\n",
    "epochs = 2\n",
    "\n",
    "for e in range(epochs):\n",
    "# 訓練データの全データに対して実行\n",
    "    for record in training_data_list:\n",
    "        # データをコンマ　','でsplit\n",
    "        all_values = record.split(',')\n",
    "        # 入力値のスケーリングとシフト\n",
    "        inputs = (numpy.asfarray(all_values[1:])/255.0*0.99) + 0.01\n",
    "        # 目標配列の生成（ラベルの位置が0.99 残りは0.01)\n",
    "        targets = numpy.zeros(output_nodes) + 0.01\n",
    "        # all_values[0]はこのデータのラベル\n",
    "        targets[int(all_values[0])] = 0.99\n",
    "        n.train(inputs, targets)"
   ]
  },
  {
   "cell_type": "code",
   "execution_count": null,
   "metadata": {
    "collapsed": false
   },
   "outputs": [],
   "source": [
    "# Mnist テストデータのCSVファイルを読み込んでリストにする\n",
    "test_data_file = open(\"mnist_dataset/mnist_test.csv\",\"r\")\n",
    "test_data_list = test_data_file.readlines()\n",
    "test_data_file.close()"
   ]
  },
  {
   "cell_type": "code",
   "execution_count": null,
   "metadata": {
    "collapsed": false,
    "scrolled": true
   },
   "outputs": [],
   "source": [
    "# テストデータセットの最初のデータを取得\n",
    "all_values = test_data_list[0].split(',')\n",
    "#　ラベルを出力\n",
    "print(all_values[0])"
   ]
  },
  {
   "cell_type": "code",
   "execution_count": null,
   "metadata": {
    "collapsed": false
   },
   "outputs": [],
   "source": [
    "image_array = numpy.asfarray(all_values[1:]).reshape((28,28))\n",
    "matplotlib.pyplot.imshow(image_array, cmap=\"Greys\",interpolation=\"None\")"
   ]
  },
  {
   "cell_type": "code",
   "execution_count": null,
   "metadata": {
    "collapsed": false
   },
   "outputs": [],
   "source": [
    "n.query((numpy.asfarray(all_values[1:])/255.0 * 0.99) + 0.01)"
   ]
  },
  {
   "cell_type": "code",
   "execution_count": null,
   "metadata": {
    "collapsed": false
   },
   "outputs": [],
   "source": [
    "# ニューラルネットワークのテスト\n",
    "\n",
    "# Scorecardは判定のリスト、最初は空\n",
    "scorecard = []\n",
    "\n",
    "# テストデータのすべてのデータに対して実行\n",
    "for record in test_data_list:\n",
    "    # データをコンマ ','でsplit\n",
    "    all_values = record.split(',')\n",
    "    # 正解は配列の1番目\n",
    "    correct_label = int(all_values[0])\n",
    "    print(correct_label, \"correct label\")\n",
    "    # 入力値のスケーリングとシフト\n",
    "    inputs = (numpy.asfarray(all_values[1:]) / 255.0 * 0.99) + 0.01\n",
    "    # ネットワークへの照会\n",
    "    outputs = n.query(inputs)\n",
    "    # 最大値のインデックスがラベルに対応\n",
    "    label = numpy.argmax(outputs)\n",
    "    print(label, \"network's answer\")\n",
    "    # 正解(1), 間違い(0)をリストに追加\n",
    "    if (label == correct_label):\n",
    "        #　正解なら１を追加\n",
    "        scorecard.append(1)\n",
    "    else:\n",
    "        #間違いなら０を追加\n",
    "        scorecard.append(0)\n"
   ]
  },
  {
   "cell_type": "code",
   "execution_count": null,
   "metadata": {
    "collapsed": false
   },
   "outputs": [],
   "source": [
    "print(scorecard)"
   ]
  },
  {
   "cell_type": "code",
   "execution_count": 49,
   "metadata": {
    "collapsed": false
   },
   "outputs": [
    {
     "name": "stdout",
     "output_type": "stream",
     "text": [
      "performance =  0.9585\n"
     ]
    }
   ],
   "source": [
    "# 評価値の計算\n",
    "scorecard_array = numpy.asarray(scorecard)\n",
    "print(\"performance = \", scorecard_array.sum() / scorecard_array.size)"
   ]
  },
  {
   "cell_type": "code",
   "execution_count": null,
   "metadata": {
    "collapsed": true
   },
   "outputs": [],
   "source": []
  }
 ],
 "metadata": {
  "anaconda-cloud": {},
  "kernelspec": {
   "display_name": "Python [default]",
   "language": "python",
   "name": "python3"
  },
  "language_info": {
   "codemirror_mode": {
    "name": "ipython",
    "version": 3
   },
   "file_extension": ".py",
   "mimetype": "text/x-python",
   "name": "python",
   "nbconvert_exporter": "python",
   "pygments_lexer": "ipython3",
   "version": "3.5.2"
  }
 },
 "nbformat": 4,
 "nbformat_minor": 1
}
